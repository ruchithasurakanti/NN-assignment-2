{
  "nbformat": 4,
  "nbformat_minor": 0,
  "metadata": {
    "colab": {
      "provenance": []
    },
    "kernelspec": {
      "name": "python3",
      "display_name": "Python 3"
    },
    "language_info": {
      "name": "python"
    }
  },
  "cells": [
    {
      "cell_type": "code",
      "source": [
        "class Employee:\n",
        "    employee_count = 0\n",
        "    def __init__(self, name, family, salary, department):\n",
        "        self.name = name\n",
        "        self.family = family\n",
        "        self.salary = salary\n",
        "        self.department = department\n",
        "        Employee.employee_count += 1\n",
        "    def average_salary(self, *salaries):\n",
        "        total_salary = sum(salaries) + self.salary\n",
        "        num_employees = len(salaries) + 1  # Add 1 for the current employee\n",
        "        return total_salary / num_employees\n",
        "class FulltimeEmployee(Employee):\n",
        "    def __init__(self, name, family, salary, department, hours_worked):\n",
        "        super().__init__(name, family, salary, department)\n",
        "        self.hours_worked = hours_worked\n",
        "employee1 = Employee(\"Ruchita\", \"Surakanti\", 50000, \"HR\")\n",
        "employee2 = Employee(\"Anusha\", \"Belli\", 60000, \"IT\")\n",
        "fulltime_employee = FulltimeEmployee(\"Vikram\", \"Kumar\", 70000, \"Finance\", 40)\n",
        "average_salary_all = employee1.average_salary(employee2.salary)\n",
        "average_salary_fulltime = fulltime_employee.average_salary()\n",
        "print(f\"Total number of employees: {Employee.employee_count}\")\n",
        "print(f\"Average salary of all employees: {average_salary_all}\")\n",
        "print(f\"Average salary of full-time employee: {average_salary_fulltime}\")\n"
      ],
      "metadata": {
        "colab": {
          "base_uri": "https://localhost:8080/"
        },
        "id": "hQykB3ZGcIFK",
        "outputId": "992b364a-3a5f-4908-8aa7-a6255fd10d51"
      },
      "execution_count": 9,
      "outputs": [
        {
          "output_type": "stream",
          "name": "stdout",
          "text": [
            "Total number of employees: 3\n",
            "Average salary of all employees: 55000.0\n",
            "Average salary of full-time employee: 70000.0\n"
          ]
        }
      ]
    },
    {
      "cell_type": "code",
      "source": [
        "import numpy as np\n",
        "\n",
        "# Create a random vector of size 20 with floats in the range 1-20\n",
        "random_vector = np.random.uniform(1, 20, 20)\n",
        "\n",
        "# Reshape the array to 4 by 5\n",
        "reshaped_array = random_vector.reshape(4, 5)\n",
        "\n",
        "# Replace the max in each row by 0 (along axis=1)\n",
        "reshaped_array[np.arange(4), reshaped_array.argmax(axis=1)] = 0\n",
        "\n",
        "print(\"Original array:\")\n",
        "print(random_vector)\n",
        "print(\"\\nReshaped array:\")\n",
        "print(reshaped_array)\n"
      ],
      "metadata": {
        "colab": {
          "base_uri": "https://localhost:8080/"
        },
        "id": "o0xSULmdcdnV",
        "outputId": "4e4c4c1b-fb22-430a-e251-fd1ae484ff0a"
      },
      "execution_count": 7,
      "outputs": [
        {
          "output_type": "stream",
          "name": "stdout",
          "text": [
            "Original array:\n",
            "[ 9.9038976  14.71679786  0.         10.13805349  6.83879187  9.10822045\n",
            "  7.16838816  9.83027247  0.          5.43322113 16.64476632 18.0325458\n",
            " 18.53794302 16.57727505  0.          8.02894337 10.25219639 11.77276074\n",
            " 12.57912599  0.        ]\n",
            "\n",
            "Reshaped array:\n",
            "[[ 9.9038976  14.71679786  0.         10.13805349  6.83879187]\n",
            " [ 9.10822045  7.16838816  9.83027247  0.          5.43322113]\n",
            " [16.64476632 18.0325458  18.53794302 16.57727505  0.        ]\n",
            " [ 8.02894337 10.25219639 11.77276074 12.57912599  0.        ]]\n"
          ]
        }
      ]
    }
  ]
}