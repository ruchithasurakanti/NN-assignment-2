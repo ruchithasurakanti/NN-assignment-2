{
  "nbformat": 4,
  "nbformat_minor": 0,
  "metadata": {
    "colab": {
      "provenance": []
    },
    "kernelspec": {
      "name": "python3",
      "display_name": "Python 3"
    },
    "language_info": {
      "name": "python"
    }
  },
  "cells": [
    {
      "cell_type": "code",
      "execution_count": null,
      "metadata": {
        "colab": {
          "base_uri": "https://localhost:8080/"
        },
        "id": "xHS1SpFuq_bF",
        "outputId": "cddc7abb-982e-41b5-fd2b-fa2c53e6cc7c"
      },
      "outputs": [
        {
          "output_type": "stream",
          "name": "stdout",
          "text": [
            "Your First Name : Ruchita \n",
            "Your Last Name : Surakanti\n",
            "Ruchita Surakanti\n"
          ]
        }
      ],
      "source": [
        "First_name = ( input(\"Your First Name : \"))\n",
        "last_name = (input(\"Your Last Name : \"))\n",
        "Full_Name = print(First_name +  last_name)\n",
        "\n"
      ]
    },
    {
      "cell_type": "code",
      "source": [
        "def string_alternative(Str):\n",
        "    output = \"\"\n",
        "    for a in range(len(Str)):\n",
        "        if a % 2 == 0:\n",
        "            output += Str[a]\n",
        "    return output\n",
        "print(string_alternative(\"Good evening\"))\n"
      ],
      "metadata": {
        "colab": {
          "base_uri": "https://localhost:8080/"
        },
        "id": "-e0HegM_rhxA",
        "outputId": "392dc287-b637-41a8-c91d-2962d1871cf8"
      },
      "execution_count": null,
      "outputs": [
        {
          "output_type": "stream",
          "name": "stdout",
          "text": [
            "Go vnn\n"
          ]
        }
      ]
    },
    {
      "cell_type": "code",
      "source": [
        "file1 = open('input.txt', 'r')\n",
        "counts = dict()\n",
        "data = file1.read()\n",
        "words = data.split()\n",
        "for word in words:\n",
        "    if word in counts:\n",
        "        counts[word] += 1\n",
        "    else:\n",
        "        counts[word] = 1\n",
        "print(counts)\n",
        "f = open('output.txt', 'w')\n",
        "f.write(data)\n",
        "f.write('\\nword_count:\\n')\n",
        "for key, value in counts.items():\n",
        "    f.write(f\"{key}: {value}\\n\")\n",
        "f.close()\n",
        "\n"
      ],
      "metadata": {
        "colab": {
          "base_uri": "https://localhost:8080/"
        },
        "id": "HCO84rZYr2zJ",
        "outputId": "db56049c-9236-4ca1-b381-b658a4120fb5"
      },
      "execution_count": null,
      "outputs": [
        {
          "output_type": "stream",
          "name": "stdout",
          "text": [
            "{'Python': 1, 'Course': 2, 'Deep': 1, 'Learning': 1}\n"
          ]
        }
      ]
    },
    {
      "cell_type": "code",
      "source": [
        "L1=list(map(float,input().split()))\n",
        "L2=[]\n",
        "for x in L1:\n",
        "    x=x*2.54\n",
        "    L2.append(x)\n",
        "print(L2)\n",
        "\n",
        "3.2\n",
        "\n",
        "L1=list(map(float,input().split()))\n",
        "L2=[x*2.54 for x in L1]\n",
        "print(L2)\n"
      ],
      "metadata": {
        "colab": {
          "base_uri": "https://localhost:8080/"
        },
        "id": "EbfkX3KTuZCp",
        "outputId": "e6ce6019-b23a-4d35-80a3-17419f80057a"
      },
      "execution_count": null,
      "outputs": [
        {
          "output_type": "stream",
          "name": "stdout",
          "text": [
            "150 155 140 148\n",
            "[381.0, 393.7, 355.6, 375.92]\n"
          ]
        }
      ]
    }
  ]
}